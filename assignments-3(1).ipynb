{
 "cells": [
  {
   "cell_type": "code",
   "execution_count": 1,
   "id": "18e6ab23-879b-4c7c-a9a4-1d8e113110f8",
   "metadata": {},
   "outputs": [],
   "source": [
    "def odd():\n",
    "    l1 =[]\n",
    "    for i in range(25):\n",
    "        if i%2!=0:\n",
    "            l1.append(i)\n",
    "    return l1        \n"
   ]
  },
  {
   "cell_type": "code",
   "execution_count": 2,
   "id": "7d0a5ba3-9f22-4049-b610-fcdf24fe2eac",
   "metadata": {},
   "outputs": [
    {
     "data": {
      "text/plain": [
       "[1, 3, 5, 7, 9, 11, 13, 15, 17, 19, 21, 23]"
      ]
     },
     "execution_count": 2,
     "metadata": {},
     "output_type": "execute_result"
    }
   ],
   "source": [
    "odd()"
   ]
  },
  {
   "cell_type": "code",
   "execution_count": 3,
   "id": "af80b5db-1d61-4204-b529-8995bed95dba",
   "metadata": {},
   "outputs": [],
   "source": [
    "def raju(*args):\n",
    "    return args"
   ]
  },
  {
   "cell_type": "code",
   "execution_count": 4,
   "id": "0e86ffce-903c-40e0-9f12-6e2a05e7db29",
   "metadata": {},
   "outputs": [
    {
     "data": {
      "text/plain": [
       "(1, 2, 3, 4, 'sudh')"
      ]
     },
     "execution_count": 4,
     "metadata": {},
     "output_type": "execute_result"
    }
   ],
   "source": [
    "raju(1,2,3,4,'sudh')"
   ]
  },
  {
   "cell_type": "code",
   "execution_count": 5,
   "id": "abba59cb-e068-4fe1-9fb5-2a314f4fcec5",
   "metadata": {},
   "outputs": [],
   "source": [
    "def karan(**kwargs):\n",
    "    return kwargs"
   ]
  },
  {
   "cell_type": "code",
   "execution_count": 6,
   "id": "d2312a5f-2841-4231-b040-2eb0fa14466f",
   "metadata": {},
   "outputs": [
    {
     "data": {
      "text/plain": [
       "{'a': 3, 'b': 'sudh', 'c': 4}"
      ]
     },
     "execution_count": 6,
     "metadata": {},
     "output_type": "execute_result"
    }
   ],
   "source": [
    "karan(a=3,b='sudh',c=4)"
   ]
  },
  {
   "cell_type": "code",
   "execution_count": 7,
   "id": "69c56332-d6b9-45dd-93fe-b83fa2ceb640",
   "metadata": {},
   "outputs": [
    {
     "name": "stdout",
     "output_type": "stream",
     "text": [
      "2\n",
      "4\n",
      "6\n",
      "8\n",
      "10\n"
     ]
    }
   ],
   "source": [
    "l = [2,4,6,8,10,12,14,16,18,20]\n",
    "l1 = iter(l)\n",
    "for i in range(5):\n",
    "    print(next(l1))"
   ]
  },
  {
   "cell_type": "code",
   "execution_count": 8,
   "id": "c10d6639-3035-47fc-afcb-176ae384134e",
   "metadata": {},
   "outputs": [],
   "source": [
    "def ax(n):\n",
    "    m=0\n",
    "    for i in range(n):\n",
    "        yield m\n",
    "        m+=i"
   ]
  },
  {
   "cell_type": "code",
   "execution_count": 9,
   "id": "32948e1c-a78e-4477-a1dd-27907f4c5de6",
   "metadata": {},
   "outputs": [
    {
     "name": "stdout",
     "output_type": "stream",
     "text": [
      "0\n",
      "0\n",
      "1\n",
      "3\n",
      "6\n",
      "10\n",
      "15\n",
      "21\n",
      "28\n",
      "36\n"
     ]
    }
   ],
   "source": [
    "for i in ax(10):\n",
    "    print(i)\n"
   ]
  },
  {
   "cell_type": "code",
   "execution_count": 10,
   "id": "4c88f4ee-931b-41ac-abc6-812b3cb0a617",
   "metadata": {},
   "outputs": [],
   "source": [
    "def prime():\n",
    "    a = int\n",
    "    for i in range(1000):\n",
    "        if i!=0:\n",
    "            c=0\n",
    "            for j in range(i):\n",
    "                if j>1 and i%j==0:\n",
    "                    c+=1\n",
    "            if c==0:\n",
    "                yield a\n",
    "                a=i"
   ]
  },
  {
   "cell_type": "code",
   "execution_count": 11,
   "id": "552edeff-0bab-4e1b-bd45-c99c5e436c49",
   "metadata": {},
   "outputs": [
    {
     "name": "stdout",
     "output_type": "stream",
     "text": [
      "<class 'int'>\n",
      "1\n",
      "2\n",
      "3\n",
      "5\n",
      "7\n",
      "11\n",
      "13\n",
      "17\n",
      "19\n",
      "23\n",
      "29\n",
      "31\n",
      "37\n",
      "41\n",
      "43\n",
      "47\n",
      "53\n",
      "59\n",
      "61\n"
     ]
    }
   ],
   "source": [
    "sudh= prime()\n",
    "for i in range(20):\n",
    "    print(next(sudh))"
   ]
  },
  {
   "cell_type": "code",
   "execution_count": 12,
   "id": "4b227dd4-23cf-4a3c-aff1-5c4d10a0b96a",
   "metadata": {},
   "outputs": [],
   "source": [
    "def test_fib():\n",
    "    a,b=0,1\n",
    "    while True:\n",
    "        yield a\n",
    "        a,b=b,a+b"
   ]
  },
  {
   "cell_type": "code",
   "execution_count": 47,
   "id": "48457d97-9be7-431c-8da6-b026b74b085e",
   "metadata": {},
   "outputs": [],
   "source": [
    "fib1 = test_fib()"
   ]
  },
  {
   "cell_type": "code",
   "execution_count": 48,
   "id": "5737997b-2fa0-4384-930c-203c1a8f4764",
   "metadata": {},
   "outputs": [
    {
     "name": "stdout",
     "output_type": "stream",
     "text": [
      "0\n",
      "1\n",
      "1\n",
      "2\n",
      "3\n",
      "5\n",
      "8\n",
      "13\n",
      "21\n",
      "34\n"
     ]
    }
   ],
   "source": [
    "for i in range(10):\n",
    "    print(next(fib1))"
   ]
  },
  {
   "cell_type": "code",
   "execution_count": 50,
   "id": "ac0d688e-8829-4baf-a70d-55d4b49210b0",
   "metadata": {},
   "outputs": [
    {
     "data": {
      "text/plain": [
       "['p', 'w', 's', 'k', 'i', 'l', 'l', 's']"
      ]
     },
     "execution_count": 50,
     "metadata": {},
     "output_type": "execute_result"
    }
   ],
   "source": [
    "s=\"pwskills\"\n",
    "l1=[]\n",
    "for i in s:\n",
    "    l1.append(i)\n",
    "l1    "
   ]
  },
  {
   "cell_type": "code",
   "execution_count": 57,
   "id": "09438bb8-5534-444e-8672-e07a64e1b1f7",
   "metadata": {},
   "outputs": [
    {
     "name": "stdin",
     "output_type": "stream",
     "text": [
      " s\n"
     ]
    },
    {
     "name": "stdout",
     "output_type": "stream",
     "text": [
      "pallindrome haii\n"
     ]
    }
   ],
   "source": [
    "s=input()\n",
    "l=list(s)\n",
    "l1=l[::-1]\n",
    "k=0\n",
    "i=0\n",
    "while i<len(l):\n",
    "    if(l[i]==l1[i]):\n",
    "        k+=1\n",
    "    i+=1\n",
    "if k==len(l):\n",
    "    print(\"pallindrome haii\")\n",
    "else:\n",
    "    print(\"nhi hai\")\n",
    "       "
   ]
  },
  {
   "cell_type": "code",
   "execution_count": 58,
   "id": "4a39d3d0-4754-4b10-b89b-59f83646ea8c",
   "metadata": {},
   "outputs": [
    {
     "data": {
      "text/plain": [
       "[1,\n",
       " 3,\n",
       " 5,\n",
       " 7,\n",
       " 9,\n",
       " 11,\n",
       " 13,\n",
       " 15,\n",
       " 17,\n",
       " 19,\n",
       " 21,\n",
       " 23,\n",
       " 25,\n",
       " 27,\n",
       " 29,\n",
       " 31,\n",
       " 33,\n",
       " 35,\n",
       " 37,\n",
       " 39,\n",
       " 41,\n",
       " 43,\n",
       " 45,\n",
       " 47,\n",
       " 49,\n",
       " 51,\n",
       " 53,\n",
       " 55,\n",
       " 57,\n",
       " 59,\n",
       " 61,\n",
       " 63,\n",
       " 65,\n",
       " 67,\n",
       " 69,\n",
       " 71,\n",
       " 73,\n",
       " 75,\n",
       " 77,\n",
       " 79,\n",
       " 81,\n",
       " 83,\n",
       " 85,\n",
       " 87,\n",
       " 89,\n",
       " 91,\n",
       " 93,\n",
       " 95,\n",
       " 97,\n",
       " 99]"
      ]
     },
     "execution_count": 58,
     "metadata": {},
     "output_type": "execute_result"
    }
   ],
   "source": [
    "l = []\n",
    "for i in range(100):\n",
    "    l.append(i+1)\n",
    "list(filter(lambda x:x%2!=0,l))    "
   ]
  },
  {
   "cell_type": "code",
   "execution_count": null,
   "id": "918a47ed-355d-4748-a1c2-741aff89893e",
   "metadata": {},
   "outputs": [],
   "source": []
  }
 ],
 "metadata": {
  "kernelspec": {
   "display_name": "Python 3 (ipykernel)",
   "language": "python",
   "name": "python3"
  },
  "language_info": {
   "codemirror_mode": {
    "name": "ipython",
    "version": 3
   },
   "file_extension": ".py",
   "mimetype": "text/x-python",
   "name": "python",
   "nbconvert_exporter": "python",
   "pygments_lexer": "ipython3",
   "version": "3.10.8"
  }
 },
 "nbformat": 4,
 "nbformat_minor": 5
}
